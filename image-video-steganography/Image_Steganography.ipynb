{
  "nbformat": 4,
  "nbformat_minor": 0,
  "metadata": {
    "colab": {
      "provenance": []
    },
    "kernelspec": {
      "name": "python3",
      "display_name": "Python 3"
    },
    "language_info": {
      "name": "python"
    }
  },
  "cells": [
    {
      "cell_type": "markdown",
      "source": [
        "# **Image Steganography Encoder / Decoder**\n"
      ],
      "metadata": {
        "id": "T8yWvIyuRm-t"
      }
    },
    {
      "cell_type": "markdown",
      "source": [
        "# **Image Steganography Encoder**\n",
        "\n",
        "Follow the steps below to properly hide a message in your chosen image. You must run each cell to perform the encoding process. In order to run each cell, hover your mouse on a particular cell then click on the play button at the left side of the cell.\n",
        "<br>\n",
        "<br>\n",
        "**Note**: All image files must be in PNG format.\n",
        "\n"
      ],
      "metadata": {
        "id": "0OxVRzl7IwBU"
      }
    },
    {
      "cell_type": "code",
      "execution_count": null,
      "metadata": {
        "id": "yUW7w_whIIUB"
      },
      "outputs": [],
      "source": [
        "# STEP 1: Import all the necessary libraries to perform the image steganography.\n",
        "\n",
        "from google.colab import files\n",
        "from matplotlib.image import imread\n",
        "import matplotlib.pyplot as plt\n",
        "import matplotlib.image as mpimg\n",
        "from PIL import Image\n",
        "import numpy as np"
      ]
    },
    {
      "cell_type": "code",
      "source": [
        "# STEP 2: Run this cell to upload your image file.\n",
        "\n",
        "uploaded = files.upload()"
      ],
      "metadata": {
        "id": "cC7ubMidOPcR"
      },
      "execution_count": null,
      "outputs": []
    },
    {
      "cell_type": "code",
      "source": [
        "# STEP 3: Replace 'INSERT FILE NAME HERE' with the name of the image file you've uploaded including its file extension (.png).\n",
        "#         Do NOT clear the single quotation marks.\n",
        "\n",
        "pixel_array = plt.imread('INSERT FILE NAME HERE')\n",
        "print(f'The height of the image is {pixel_array.shape[0]} pixels and the width of the image is {pixel_array.shape[1]} pixels.\\nThe number of color channels is {pixel_array.shape[2]}.')\n",
        "\n",
        "plt.imshow(pixel_array);"
      ],
      "metadata": {
        "id": "BCT3XAzjIlp4"
      },
      "execution_count": null,
      "outputs": []
    },
    {
      "cell_type": "code",
      "source": [
        "def steg_write(image_path, message, output_path='encoded_image.png', spacing=10):\n",
        "\n",
        "    if not image_path.lower().endswith('.png'):\n",
        "        raise ValueError('The input image must be a PNG file.')\n",
        "\n",
        "    img = Image.open(image_path)\n",
        "    pixel_array = np.array(img)\n",
        "\n",
        "    message_values = [ord(char) for char in message]\n",
        "\n",
        "    image_shape = pixel_array.shape\n",
        "\n",
        "    pixel_list = pixel_array.flatten().tolist()\n",
        "    if len(message)*spacing > len(pixel_list):\n",
        "        raise ValueError('The message length and spacing is larger than the number of pixels in the image.')\n",
        "\n",
        "    idx_list = [idx * spacing for idx in range(len(message_values))]\n",
        "\n",
        "    for idx, char in zip(idx_list, message_values):\n",
        "        pixel_list[idx] = char\n",
        "\n",
        "    edited_array = np.array(pixel_list).reshape(image_shape).astype(np.uint8)\n",
        "\n",
        "    edited_img = Image.fromarray(edited_array)\n",
        "    edited_img.save(output_path)\n",
        "\n",
        "    print(f'Message Length: {len(message):,}')\n",
        "    print('Image Saved!')\n",
        "\n",
        "# STEP 4: Replace 'INSERT FILE NAME HERE' with the name of the image file you've uploaded including its file extension (.png).\n",
        "#         Enter the message you want to hide in the 'message' variable.\n",
        "#         Do NOT clear the single quotation marks.\n",
        "steg_write('INSERT FILE NAME HERE',output_path='encoded_image.png',message='hello')\n",
        "\n",
        "plt.imshow(mpimg.imread('encoded_image.png'));"
      ],
      "metadata": {
        "id": "51RYywQMMDcB"
      },
      "execution_count": null,
      "outputs": []
    },
    {
      "cell_type": "code",
      "source": [
        "# STEP 5: Download the 'encoded_image.png' file by clicking the three dots beside at the left navigation bar it then click 'Download'."
      ],
      "metadata": {
        "id": "yTQcVZltTWXv"
      },
      "execution_count": null,
      "outputs": []
    },
    {
      "cell_type": "markdown",
      "source": [
        "# **Image Steganography Decoder**\n",
        "\n",
        "Upload the image file you want to decode by clicking 'Files' in the left navigation bar, then 'Upload to session storage'. In order to run a code snippet to in each cell, hover your mouse on a particular cell then click on the play button at the left side of the cell."
      ],
      "metadata": {
        "id": "3xznDJu_ZakU"
      }
    },
    {
      "cell_type": "code",
      "source": [
        "def steg_read(image_path, message_length, spacing=10):\n",
        "    img = Image.open(image_path)\n",
        "    pixel_array = np.array(img)\n",
        "\n",
        "    pixel_list = pixel_array.flatten().tolist()\n",
        "\n",
        "    idx_list = [idx * spacing for idx in range(message_length)]\n",
        "\n",
        "    hidden_values = [pixel_list[idx] for idx in idx_list]\n",
        "\n",
        "    chars = [chr(value) for value in hidden_values]\n",
        "\n",
        "    return ''.join(chars)\n",
        "\n",
        "# Replace 'INSERT FILE NAME HERE' with the name of the image file you've uploaded including its file extension (.png).\n",
        "# Do NOT clear the single quotation marks.\n",
        "steg_read(image_path='INSERT FILE NAME HERE',message_length=5)"
      ],
      "metadata": {
        "id": "qbEL73j_Sts1"
      },
      "execution_count": null,
      "outputs": []
    }
  ]
}