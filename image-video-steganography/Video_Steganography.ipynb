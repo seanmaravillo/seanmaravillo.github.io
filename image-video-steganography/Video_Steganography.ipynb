{
  "nbformat": 4,
  "nbformat_minor": 0,
  "metadata": {
    "colab": {
      "provenance": []
    },
    "kernelspec": {
      "name": "python3",
      "display_name": "Python 3"
    },
    "language_info": {
      "name": "python"
    }
  },
  "cells": [
    {
      "cell_type": "markdown",
      "source": [
        "# **Video Steganography Encoder / Decoder**\n"
      ],
      "metadata": {
        "id": "eZwSqDToWcqy"
      }
    },
    {
      "cell_type": "markdown",
      "source": [
        "# **Image Steganography Encoder**\n",
        "\n",
        "Follow the steps below to properly hide a message in your chosen video. You must run each cell to perform the encoding process. In order to run each cell, hover your mouse on a particular cell then click on the play button at the left side of the cell.\n",
        "<br>\n",
        "<br>\n",
        "**Note**: All video files must be in MP4 format.\n",
        "\n"
      ],
      "metadata": {
        "id": "OpbusMGXWrdX"
      }
    },
    {
      "cell_type": "code",
      "source": [
        "# [OPTIONAL] STEP 1: Install the stegano library\n",
        "\n",
        "# Restart the session after installing the library\n",
        "!pip install stegano"
      ],
      "metadata": {
        "id": "HmqlvNhBcnWU"
      },
      "execution_count": null,
      "outputs": []
    },
    {
      "cell_type": "code",
      "source": [
        "# STEP 2: Import all the necessary libraries to perform the video steganography.\n",
        "\n",
        "from google.colab import files\n",
        "from stegano import lsb\n",
        "from os.path import isfile,join\n",
        "import time\n",
        "import cv2\n",
        "import numpy as np\n",
        "import math\n",
        "import os\n",
        "import shutil\n",
        "from subprocess import call,STDOUT"
      ],
      "metadata": {
        "id": "ATZcOX72by43"
      },
      "execution_count": null,
      "outputs": []
    },
    {
      "cell_type": "code",
      "source": [
        "# STEP 3: Run this cell to upload your image file.\n",
        "\n",
        "uploaded = files.upload()"
      ],
      "metadata": {
        "id": "LT_H8wdBsAgS"
      },
      "execution_count": null,
      "outputs": []
    },
    {
      "cell_type": "code",
      "source": [
        "# STEP 4: Run this cell to enter the message to be hidden and the video file to hide the message in.\n",
        "\n",
        "input_string = \"\"\n",
        "\n",
        "def main():\n",
        "    global input_string\n",
        "    input_string = input(\"Enter the message to be hidden: \")\n",
        "    f_name=input(\"Enter the name of the video including its file extension (.mp4): \")\n",
        "    frame_extraction(f_name)\n",
        "    call([\"ffmpeg\", \"-i\",f_name, \"-q:a\", \"0\", \"-map\", \"a\", \"tmp/audio.mp3\", \"-y\"],stdout=open(os.devnull, \"w\"), stderr=STDOUT)\n",
        "\n",
        "    encode_string(input_string)\n",
        "    call([\"ffmpeg\", \"-i\", \"tmp/%d.png\" , \"-vcodec\", \"png\", \"tmp/encoded_video.mov\", \"-y\"],stdout=open(os.devnull, \"w\"), stderr=STDOUT)\n",
        "\n",
        "    call([\"ffmpeg\", \"-i\", \"tmp/encoded_video.mov\", \"-i\", \"tmp/audio.mp3\", \"-codec\", \"copy\", \"encoded_video.mov\", \"-y\"],stdout=open(os.devnull, \"w\"), stderr=STDOUT)\n",
        "    print(\"Encoded video saved!\")\n",
        "    clean_tmp()\n",
        "\n",
        "def split_string(s_str,count=1000):\n",
        "    per_c=math.ceil(len(s_str)/count)\n",
        "    c_cout=0\n",
        "    out_str=''\n",
        "    split_list=[]\n",
        "    for s in s_str:\n",
        "        out_str+=s\n",
        "        c_cout+=1\n",
        "        if c_cout == per_c:\n",
        "            split_list.append(out_str)\n",
        "            out_str=''\n",
        "            c_cout=0\n",
        "    if c_cout!=0:\n",
        "        split_list.append(out_str)\n",
        "    return split_list\n",
        "\n",
        "def frame_extraction(video):\n",
        "    if not os.path.exists(\"./tmp\"):\n",
        "        os.makedirs(\"tmp\")\n",
        "    temp_folder=\"./tmp\"\n",
        "    print(\"Converting to individual frames...\")\n",
        "\n",
        "    vidcap = cv2.VideoCapture(video)\n",
        "    count = 0\n",
        "\n",
        "    while True:\n",
        "        success, image = vidcap.read()\n",
        "        if not success:\n",
        "            break\n",
        "        cv2.imwrite(os.path.join(temp_folder, \"{:d}.png\".format(count)), image)\n",
        "        count += 1\n",
        "\n",
        "def encode_string(input_string,root=\"./tmp/\"):\n",
        "    split_string_list=split_string(input_string)\n",
        "    for i in range(0,len(split_string_list)):\n",
        "        f_name=\"{}{}.png\".format(root,i)\n",
        "        secret_enc=lsb.hide(f_name,split_string_list[i])\n",
        "        secret_enc.save(f_name)\n",
        "    print(\"Hiding message in frames...\")\n",
        "\n",
        "def clean_tmp(path=\"./tmp\"):\n",
        "    if os.path.exists(path):\n",
        "        shutil.rmtree(path)\n",
        "\n",
        "if __name__ == \"__main__\":\n",
        "    main()"
      ],
      "metadata": {
        "id": "C2jx09Vtwohc"
      },
      "execution_count": null,
      "outputs": []
    },
    {
      "cell_type": "code",
      "source": [
        "# STEP 5: Download the 'encoded_video.mov' file by clicking the three dots beside at the left navigation bar it then click 'Download'."
      ],
      "metadata": {
        "id": "kggvHezPSjly"
      },
      "execution_count": null,
      "outputs": []
    },
    {
      "cell_type": "markdown",
      "source": [
        "# **Video Steganography Decoder**\n",
        "\n",
        "Upload the video file you want to decode by clicking 'Files' in the left navigation bar, then 'Upload to session storage'. In order to run a code snippet to in each cell, hover your mouse on a particular cell then click on the play button at the left side of the cell."
      ],
      "metadata": {
        "id": "vO4lhBBkRDqp"
      }
    },
    {
      "cell_type": "code",
      "source": [
        "def decode_string(video):\n",
        "    frame_extraction(video)\n",
        "    secret=[]\n",
        "    root=\"./tmp/\"\n",
        "    for i in range(len(input_string)):\n",
        "        f_name=\"{}{}.png\".format(root,i)\n",
        "        secret_dec= lsb.reveal(f_name)\n",
        "        if secret_dec is None:\n",
        "            break\n",
        "        secret.append(secret_dec)\n",
        "    print(''.join([i for i in secret]))\n",
        "    clean_tmp()\n",
        "\n",
        "# Replace 'INSERT FILE NAME HERE' with the name of the image file you've uploaded including its file extension (.mov).\n",
        "# Do NOT clear the single quotation marks.\n",
        "decode_string('INSERT FILE NAME HERE')"
      ],
      "metadata": {
        "id": "cjQfKkhC7Yrc"
      },
      "execution_count": null,
      "outputs": []
    }
  ]
}